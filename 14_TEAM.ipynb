{
  "nbformat": 4,
  "nbformat_minor": 0,
  "metadata": {
    "colab": {
      "provenance": [],
      "authorship_tag": "ABX9TyMex5Df4zWmVbfKl0cbRvoz",
      "include_colab_link": true
    },
    "kernelspec": {
      "name": "python3",
      "display_name": "Python 3"
    },
    "language_info": {
      "name": "python"
    }
  },
  "cells": [
    {
      "cell_type": "markdown",
      "metadata": {
        "id": "view-in-github",
        "colab_type": "text"
      },
      "source": [
        "<a href=\"https://colab.research.google.com/github/Nathakrit1/project--1-_coding/blob/main/14_TEAM.ipynb\" target=\"_parent\"><img src=\"https://colab.research.google.com/assets/colab-badge.svg\" alt=\"Open In Colab\"/></a>"
      ]
    },
    {
      "cell_type": "markdown",
      "source": [
        "# เลขที่14 ทีม ณัฐกฤต ภูสมบัติ\n",
        "No14 Team Nathakrit Phoosombat"
      ],
      "metadata": {
        "id": "ysYHM8zicUT9"
      }
    },
    {
      "cell_type": "code",
      "execution_count": null,
      "metadata": {
        "id": "qTEuPPnCbRWC",
        "colab": {
          "base_uri": "https://localhost:8080/"
        },
        "outputId": "cc430d6f-0fd5-441e-f2e4-c5f7eece7cda"
      },
      "outputs": [
        {
          "output_type": "stream",
          "name": "stdout",
          "text": [
            " ดีคับอู๊ดๆ ทีมเองง \n"
          ]
        }
      ],
      "source": [
        "print(\" ดีคับอู๊ดๆ ทีมเองง \")\n"
      ]
    },
    {
      "cell_type": "code",
      "source": [
        "print(\"Just because someting \")\n",
        "print(\"thinks differently from you,\")\n",
        "print(\"does that mean it' not thinking ?\")"
      ],
      "metadata": {
        "colab": {
          "base_uri": "https://localhost:8080/"
        },
        "id": "hgHVWRCqG10f",
        "outputId": "36299834-0553-4528-b375-7447dffae5a1"
      },
      "execution_count": null,
      "outputs": [
        {
          "output_type": "stream",
          "name": "stdout",
          "text": [
            "Just because someting \n",
            "thinks differently from you,\n",
            "does that mean it' not thinking ?\n"
          ]
        }
      ]
    },
    {
      "cell_type": "code",
      "source": [
        "a= 46874558\n",
        "b= 45657777\n",
        "x=12345677\n",
        "y =40000000\n",
        "print( a+ b +x - y)"
      ],
      "metadata": {
        "colab": {
          "base_uri": "https://localhost:8080/"
        },
        "id": "60M1BDgZJoDd",
        "outputId": "20d98e37-1cae-4a4f-d5ee-2f3b10896aaa"
      },
      "execution_count": null,
      "outputs": [
        {
          "output_type": "stream",
          "name": "stdout",
          "text": [
            "64878012\n"
          ]
        }
      ]
    },
    {
      "cell_type": "markdown",
      "source": [
        "\n",
        "\n",
        "# **29 May 2024**"
      ],
      "metadata": {
        "id": "MydnMBrzZljW"
      }
    },
    {
      "cell_type": "code",
      "source": [
        "a = 2\n",
        "b = 1.5\n",
        "c = \"M.4/4\"\n",
        "\n",
        "type(c)\n",
        "\n",
        "print(\"ตัวเเปรที่ฉันคิด คือ T\")"
      ],
      "metadata": {
        "colab": {
          "base_uri": "https://localhost:8080/"
        },
        "id": "l0J4TvdjZ5Uq",
        "outputId": "e5f732e9-178a-47eb-a9ca-efc1ef82271e"
      },
      "execution_count": null,
      "outputs": [
        {
          "output_type": "stream",
          "name": "stdout",
          "text": [
            "ตัวเเปรที่ฉันคิด คือ T\n"
          ]
        }
      ]
    },
    {
      "cell_type": "markdown",
      "source": [
        " 29/5/2024\n",
        " * ประเภทของเงื่อนไข เเละ ข้อมูล code\n",
        " * เรื่องtype\n",
        " * ตัวเเปร"
      ],
      "metadata": {
        "id": "m8R3wtgKiKMm"
      }
    },
    {
      "cell_type": "code",
      "source": [
        "numeric1 =5"
      ],
      "metadata": {
        "id": "c-d9CcX6kRl0"
      },
      "execution_count": null,
      "outputs": []
    },
    {
      "cell_type": "markdown",
      "source": [
        "# **05 June 2024**"
      ],
      "metadata": {
        "id": "0EXRwPSYXSj9"
      }
    },
    {
      "cell_type": "code",
      "source": [
        "string1 = \"Python\"\n",
        "print(string1[0])"
      ],
      "metadata": {
        "colab": {
          "base_uri": "https://localhost:8080/"
        },
        "id": "lYvvL8_AXYi2",
        "outputId": "9b3f8114-1b14-40ac-f170-88dfb2d9865c"
      },
      "execution_count": null,
      "outputs": [
        {
          "output_type": "stream",
          "name": "stdout",
          "text": [
            "P\n"
          ]
        }
      ]
    },
    {
      "cell_type": "markdown",
      "source": [
        "index เป็นค่า offset เป็นตัวอ้างอิงจากตำเเหน่งเเรกของหน่วย\n",
        "ถ้าต้องการ print index = 0 จะได้ตัวอักษรตัวเเรก เช่น  Python ปริ้นออกมาจะเป็นตัวP เพราะ\n",
        "   \n",
        "   P y t h o n\n",
        "    \n",
        "  0 1 2 3 4 5\n",
        "   \n",
        "   -6 -5 -4 -3 -2\n",
        "\n",
        "  input (ข้อมูลนำเข้า) คือ เป็นข้อมูลหรือข้อมูลที่ถูกป้อนเข้าสู่ระบบ เช่น ข้อความ, รูปภาพ, เสียง\n",
        "\n",
        "\n",
        " Process (กระบวนการ) คือ  ประมวลผลคำตอบจาก code โดยส่งให้editer\n",
        "\n",
        " Output (ผลลัพธ์) คือ ผลลัพธ์ ของcode\n",
        "    \n",
        "\n",
        "\n",
        "\n",
        "\n"
      ],
      "metadata": {
        "id": "nhtdpflKb0NH"
      }
    },
    {
      "cell_type": "markdown",
      "source": [
        "# **26 June 2024**\n"
      ],
      "metadata": {
        "id": "OULsa56VZliT"
      }
    },
    {
      "cell_type": "markdown",
      "source": [
        "input"
      ],
      "metadata": {
        "id": "k8ltXwRvwZ1B"
      }
    },
    {
      "cell_type": "code",
      "source": [
        "name=input(\"ชื่อรายฮาปปปปป   \")\n",
        "print(\"name\")"
      ],
      "metadata": {
        "colab": {
          "base_uri": "https://localhost:8080/"
        },
        "id": "lKobTA7Jwcfh",
        "outputId": "ef7b31b3-4ffd-4aaa-acdb-67ed955908fd"
      },
      "execution_count": null,
      "outputs": [
        {
          "output_type": "stream",
          "name": "stdout",
          "text": [
            "ชื่อรายฮาปปปปป   Team\n",
            "Team\n"
          ]
        }
      ]
    },
    {
      "cell_type": "code",
      "source": [
        "side = int(input(\"ความยาวด้าน(ซม.)คือ\"))\n",
        "\n",
        "area = side * side\n",
        "\n",
        "print(\"พื้นที่สี่เหลี่ยม เท่ากับ \", area,\" ตร.ซม.\")"
      ],
      "metadata": {
        "colab": {
          "base_uri": "https://localhost:8080/"
        },
        "id": "tFpO6HW5y7GU",
        "outputId": "980cc5fb-9da0-43e0-d71c-e27571ea6384"
      },
      "execution_count": null,
      "outputs": [
        {
          "output_type": "stream",
          "name": "stdout",
          "text": [
            "ความยาวด้าน(ซม.)คือ 5\n",
            "พื้นที่สี่เหลี่ยม เท่ากับ  25  ตร.ซม.\n"
          ]
        }
      ]
    },
    {
      "cell_type": "markdown",
      "source": [
        "# **1 July 2024**\n"
      ],
      "metadata": {
        "id": "TekotJP5Q1e9"
      }
    },
    {
      "cell_type": "code",
      "source": [
        "\n",
        "length = int(input(\"ป้อนความยาวของสี่เหลี่ยมผืนผ้า: \"))\n",
        "width = int(input(\"ป้อนความกว้างของสี่เหลี่ยมผืนผ้า: \"))\n",
        "\n",
        "area = length * width\n",
        "\n",
        "print(\"พื้นที่สี่เหลี่ยมผืนผ้า เท่ากับ \", area,\" ตร.ซม.\")"
      ],
      "metadata": {
        "colab": {
          "base_uri": "https://localhost:8080/"
        },
        "id": "UsFjoMS2RHmd",
        "outputId": "071777d9-d65a-4001-e827-c63540b83760"
      },
      "execution_count": null,
      "outputs": [
        {
          "output_type": "stream",
          "name": "stdout",
          "text": [
            "ป้อนความยาวของสี่เหลี่ยมผืนผ้า: 5\n",
            "ป้อนความกว้างของสี่เหลี่ยมผืนผ้า: 15\n",
            "พื้นที่สี่เหลี่ยมผืนผ้า เท่ากับ  75  ตร.ซม.\n"
          ]
        }
      ]
    },
    {
      "cell_type": "code",
      "source": [
        "s=int(input(\"ระยะทาง(s) คือ\"))\n",
        "t=int(input(\"เวลา(t) คือ\"))\n",
        "\n",
        "v=s/t\n",
        "\n",
        "print(\"อัตราเร็ว เท่ากับ  \", v,\"คือ \" )\n"
      ],
      "metadata": {
        "colab": {
          "base_uri": "https://localhost:8080/"
        },
        "id": "OKprKJ8GTU28",
        "outputId": "76362238-91c7-41ec-90c3-04e9358871fa"
      },
      "execution_count": null,
      "outputs": [
        {
          "output_type": "stream",
          "name": "stdout",
          "text": [
            "ระยะทาง(s) คือ5\n",
            "เวลา(t) คือ10\n",
            "อัตราเร็ว เท่ากับ   0.5 คือ \n"
          ]
        }
      ]
    },
    {
      "cell_type": "code",
      "source": [
        "print(\"Welcome to my programe\")\n",
        "w=float(input(\"น้ำหนัก(w)คือ\"))\n",
        "h=float(input(\"ส่วนสูง(h)คือ\"))\n",
        "\n",
        "\n",
        "bmi= w/h** 2\n",
        "\n",
        "print(\"ค่าดัชนีมวลกาย ของคุณคือ \" ,bmi,\"\")\n",
        "print(\"my programe is BMI by Teammy\")\n",
        "str(input(\"ชื่อผู้ใช้\" ))"
      ],
      "metadata": {
        "colab": {
          "base_uri": "https://localhost:8080/",
          "height": 146
        },
        "id": "CLyN3AoLX1kM",
        "outputId": "3d3ac4ea-9133-43ad-c1c4-8ed246eb596f"
      },
      "execution_count": null,
      "outputs": [
        {
          "name": "stdout",
          "output_type": "stream",
          "text": [
            "Welcome to my programe\n",
            "น้ำหนัก(w)คือ44\n",
            "ส่วนสูง(h)คือ1.70\n",
            "ค่าดัชนีมวลกาย ของคุณคือ  15.224913494809691 \n",
            "my programe is BMI by Teammy\n",
            "ชื่อผู้ใช้book\n"
          ]
        },
        {
          "output_type": "execute_result",
          "data": {
            "text/plain": [
              "'book'"
            ],
            "application/vnd.google.colaboratory.intrinsic+json": {
              "type": "string"
            }
          },
          "metadata": {},
          "execution_count": 18
        }
      ]
    }
  ]
}