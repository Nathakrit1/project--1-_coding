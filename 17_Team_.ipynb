{
  "nbformat": 4,
  "nbformat_minor": 0,
  "metadata": {
    "colab": {
      "provenance": [],
      "authorship_tag": "ABX9TyPS9Lp0Be43C+nRpZJ/vd6+",
      "include_colab_link": true
    },
    "kernelspec": {
      "name": "python3",
      "display_name": "Python 3"
    },
    "language_info": {
      "name": "python"
    }
  },
  "cells": [
    {
      "cell_type": "markdown",
      "metadata": {
        "id": "view-in-github",
        "colab_type": "text"
      },
      "source": [
        "<a href=\"https://colab.research.google.com/github/Nathakrit1/project--1-_coding/blob/main/17_Team_.ipynb\" target=\"_parent\"><img src=\"https://colab.research.google.com/assets/colab-badge.svg\" alt=\"Open In Colab\"/></a>"
      ]
    },
    {
      "cell_type": "code",
      "metadata": {
        "id": "D5crjlGIpuRj",
        "colab": {
          "base_uri": "https://localhost:8080/",
          "height": 129
        },
        "outputId": "d2ef9507-612b-42db-934d-53238af5a67e"
      },
      "source": [
        "\n",
        "+17Nathakrit.Phoosombat(Team)\n",
        "ณัฐกฤต ภูสมบัติ(ธีม)\n",
        "(24/11/64)\n",
        "*print\n",
        "*open filter"
      ],
      "execution_count": null,
      "outputs": [
        {
          "output_type": "error",
          "ename": "SyntaxError",
          "evalue": "ignored",
          "traceback": [
            "\u001b[0;36m  File \u001b[0;32m\"<ipython-input-1-cb574f898df3>\"\u001b[0;36m, line \u001b[0;32m2\u001b[0m\n\u001b[0;31m    +17Nathakrit.Phoosombat(Team)\u001b[0m\n\u001b[0m               ^\u001b[0m\n\u001b[0;31mSyntaxError\u001b[0m\u001b[0;31m:\u001b[0m invalid syntax\n"
          ]
        }
      ]
    },
    {
      "cell_type": "code",
      "source": [
        "print(\"โปรเเกรมการรับประทานอาหาร\")\n",
        "\n",
        "\n",
        "food = float(input(\"\"))\n",
        "\n",
        "\n",
        "elif food <= 13\n",
        "print(\"กินเวลา 12 นาฬิกา\")\n",
        "else:\n",
        "  print(\"กินเวลา 18 นาฬิกา\")\n",
        "\n",
        "\n",
        "  print(\"program by Nathakrit Phoosombat\")"
      ],
      "metadata": {
        "id": "WKTiteSI3Tq8",
        "outputId": "1dac4252-a3d2-4ac5-d48f-29e8f5bc0356",
        "colab": {
          "base_uri": "https://localhost:8080/",
          "height": 153
        }
      },
      "execution_count": null,
      "outputs": [
        {
          "output_type": "error",
          "ename": "SyntaxError",
          "evalue": "ignored",
          "traceback": [
            "\u001b[0;36m  File \u001b[0;32m\"<ipython-input-6-02ad05d79dbc>\"\u001b[0;36m, line \u001b[0;32m4\u001b[0m\n\u001b[0;31m    food if  <=0:\u001b[0m\n\u001b[0m              ^\u001b[0m\n\u001b[0;31mSyntaxError\u001b[0m\u001b[0;31m:\u001b[0m invalid syntax\n"
          ]
        }
      ]
    },
    {
      "cell_type": "code",
      "source": [],
      "metadata": {
        "id": "PZZv6I378jjy"
      },
      "execution_count": null,
      "outputs": []
    },
    {
      "cell_type": "code",
      "source": [
        "print(\"^program + * - + / ^\")\n",
        "\n",
        "\n",
        "Team1 = int(input(\"enter number 1 \"))\n",
        "Team2 = int(input(\"enter second  2  \"))\n",
        "\n",
        "\n",
        "plus = Team1 + Team2\n",
        "minus = Team1 - Team2\n",
        "multiple = Team1 = Team2\n",
        "divide = Team1 / Team2\n",
        "\n",
        "\n",
        "print(\"ผลบวก คือ \", plus)\n",
        "print(\"ผลลบ คือ \", minus)\n",
        "print(\"ผลคูณ คือ\", multiple)\n",
        "print(\"ผลหาร คือ \", divide)\n",
        "\n",
        "\n",
        "print(\" nProgram by Nathakrit(Team) no17\")\n",
        "print(\"Thank you -_-\")"
      ],
      "metadata": {
        "colab": {
          "base_uri": "https://localhost:8080/"
        },
        "id": "TUkSeKRl3qhD",
        "outputId": "bc6c42e1-1acf-45bf-a38e-204581193fb5"
      },
      "execution_count": null,
      "outputs": [
        {
          "output_type": "stream",
          "name": "stdout",
          "text": [
            "^program + * - + / ^\n",
            "enter number 1 13\n",
            "enter second  2  26\n",
            "ผลบวก คือ  39\n",
            "ผลลบ คือ  -13\n",
            "ผลคูณ คือ 26\n",
            "ผลหาร คือ  1.0\n",
            " nProgram by Nathakrit(Team) no17\n",
            "Thank you -_-\n"
          ]
        }
      ]
    },
    {
      "cell_type": "code",
      "source": [],
      "metadata": {
        "id": "W6YS_dP2Pwpk"
      },
      "execution_count": null,
      "outputs": []
    },
    {
      "cell_type": "code",
      "source": [],
      "metadata": {
        "colab": {
          "base_uri": "https://localhost:8080/"
        },
        "id": "nUXQaNp_-2nO",
        "outputId": "93c0c43e-fbbc-44b9-da69-7e0ddae656a1"
      },
      "execution_count": null,
      "outputs": [
        {
          "output_type": "stream",
          "name": "stdout",
          "text": [
            "7\n"
          ]
        }
      ]
    },
    {
      "cell_type": "code",
      "source": [
        "Team1 =int(input(\"Enter number\"))"
      ],
      "metadata": {
        "colab": {
          "base_uri": "https://localhost:8080/"
        },
        "id": "82HVmGmmBe2G",
        "outputId": "37c4e4ca-e8bf-4718-fd9f-df9e4403ede7"
      },
      "execution_count": null,
      "outputs": [
        {
          "name": "stdout",
          "output_type": "stream",
          "text": [
            "Enter number2\n"
          ]
        }
      ]
    },
    {
      "cell_type": "markdown",
      "source": [
        "21/12/64\n",
        "การรับข้อมูล โดยการเเปลงชนิดข้อมูลจาก String เป็น interger/float\n",
        "\n",
        "STR หรือ String คือ ชนิดข้อมูลรูปเเบบข้อความ ตัวอักษร ไม่สามารถคำนวนได้\n",
        "int หรือ interger คือ ชนิดข้อมูลรูปเเบบจำนวนจริง ทั่งจำนวนเต็มบวก เเละจำเต็มลบ สามารถคำนวนได้\n",
        "Float คือ ชนิดข้อมูลรูปเเบบจำนวนทศนิยม สามารถคำนวนได้\n"
      ],
      "metadata": {
        "id": "FUyoG7fYn9Uo"
      }
    },
    {
      "cell_type": "code",
      "source": [],
      "metadata": {
        "id": "r-8ILZ3XsY6_"
      },
      "execution_count": null,
      "outputs": []
    },
    {
      "cell_type": "code",
      "source": [],
      "metadata": {
        "id": "_DzmJ4kerjOH"
      },
      "execution_count": null,
      "outputs": []
    },
    {
      "cell_type": "markdown",
      "source": [],
      "metadata": {
        "id": "ItSC5vQj5yXz"
      }
    },
    {
      "cell_type": "code",
      "source": [
        "input(\"Enter first number\")"
      ],
      "metadata": {
        "colab": {
          "base_uri": "https://localhost:8080/",
          "height": 52
        },
        "id": "Kllix9bdq-Yg",
        "outputId": "dae74df7-b2f2-48e8-fc62-2c9d3e1438c2"
      },
      "execution_count": null,
      "outputs": [
        {
          "name": "stdout",
          "output_type": "stream",
          "text": [
            "Enter first number223\n"
          ]
        },
        {
          "output_type": "execute_result",
          "data": {
            "application/vnd.google.colaboratory.intrinsic+json": {
              "type": "string"
            },
            "text/plain": [
              "'223'"
            ]
          },
          "metadata": {},
          "execution_count": 3
        }
      ]
    },
    {
      "cell_type": "markdown",
      "source": [],
      "metadata": {
        "id": "molYXlsL50Ig"
      }
    },
    {
      "cell_type": "markdown",
      "source": [
        "30/11/21\n",
        "input"
      ],
      "metadata": {
        "id": "COWm8b5PszAV"
      }
    },
    {
      "cell_type": "code",
      "source": [
        "input(\"What is your name\")\n"
      ],
      "metadata": {
        "id": "OvdCL4vntWYn",
        "colab": {
          "base_uri": "https://localhost:8080/",
          "height": 52
        },
        "outputId": "8ae7c0db-e44a-4997-dfdc-75d24467198c"
      },
      "execution_count": null,
      "outputs": [
        {
          "name": "stdout",
          "output_type": "stream",
          "text": [
            "What is your namemy nickname is Team\n"
          ]
        },
        {
          "output_type": "execute_result",
          "data": {
            "application/vnd.google.colaboratory.intrinsic+json": {
              "type": "string"
            },
            "text/plain": [
              "'my nickname is Team'"
            ]
          },
          "metadata": {},
          "execution_count": 2
        }
      ]
    },
    {
      "cell_type": "code",
      "source": [],
      "metadata": {
        "id": "ZX15_ICTsU2w"
      },
      "execution_count": null,
      "outputs": []
    },
    {
      "cell_type": "markdown",
      "source": [],
      "metadata": {
        "id": "ED54QmnR5eJ3"
      }
    },
    {
      "cell_type": "markdown",
      "source": [
        "สรุปข้อมูล เป็นภาษาโปรเเกรมระดับสูง ทำงานเเบบ interpreter สร้างโดยGuido van Rossom"
      ],
      "metadata": {
        "id": "0rSleK4V3Q_o"
      }
    },
    {
      "cell_type": "markdown",
      "source": [],
      "metadata": {
        "id": "8C-Z2KbvqzT9"
      }
    },
    {
      "cell_type": "code",
      "source": [
        "num1 = int(input(\"Enter first number\")\n",
        "ืnum2 = int(input(\"Enter second number\")\n",
        "\n",
        "\n",
        "ans = num1 + num2\n",
        "print(\"Answer is \",ans)\n"
      ],
      "metadata": {
        "id": "w2eTx3bar7oT"
      },
      "execution_count": null,
      "outputs": []
    },
    {
      "cell_type": "markdown",
      "source": [
        "22/12/64 ทบทวนการเเปลงชนิดข้อมูล"
      ],
      "metadata": {
        "id": "bKDQ6YmAv217"
      }
    },
    {
      "cell_type": "code",
      "source": [
        "num3 = int(input(\"Enter number\"))\n",
        "num4 = float(input(\"Enter number\"))\n",
        "\n",
        "\n",
        "ans = num * num4\n",
        "\n",
        "print(\"Answer is \", ans )"
      ],
      "metadata": {
        "id": "W42WWIUIwCfY"
      },
      "execution_count": null,
      "outputs": []
    },
    {
      "cell_type": "markdown",
      "source": [
        "1/4 mission\n",
        "เขียนโปรเเกรมรับค่าตัวเลขอย่างน้อยจำนวน2ค่า\n",
        "เเละเเสดงผลลัพธ์การบวก ลบ คูณ หาร\n"
      ],
      "metadata": {
        "id": "tBLtTAswy8rS"
      }
    },
    {
      "cell_type": "code",
      "source": [
        "ืno17 = int(input(\"Enter number\"))\n",
        "no18 = int(input(\"enter number\"))\n",
        "\n",
        "ans = no * no20\n",
        "print(\"Answer is \")"
      ],
      "metadata": {
        "id": "abWAYha70uhD"
      },
      "execution_count": null,
      "outputs": []
    },
    {
      "cell_type": "code",
      "source": [
        "def การดิ่งเสรี (time):\n",
        "    g = 10  # ความเร่งจากแรงโน้มถ่วง (m/s^2)\n",
        "    u = 0  # ความเร็วเริ่มต้น (m/s) สำหรับการเริ่มต้นจากหยุดนิ่ง\n",
        "\n",
        "    # คำนวณความเร็วสุดท้าย\n",
        "    v = u + g * time\n",
        "\n",
        "    # คำนวณระยะทางที่ตก\n",
        "    s = u * time + 0.5 * g * time**2\n",
        "\n",
        "    return v, s\n",
        "\n",
        "time = float(input(\"กรุณากรอกเวลาที่ดิ่งลง (วินาที): \"))\n",
        "\n",
        "velocity, distance = การดิ่งเสรี(time)\n",
        "\n",
        "print(f\"ความเร็วสุดท้าย: {velocity:.2f} m/s\")\n",
        "print(f\"ระยะทางที่ตก: {distance:.2f} เมตร\")"
      ],
      "metadata": {
        "colab": {
          "base_uri": "https://localhost:8080/"
        },
        "id": "DLqRXeEh-L7H",
        "outputId": "7e3cb96e-bd5c-4b57-fe10-18e1d892756f"
      },
      "execution_count": 5,
      "outputs": [
        {
          "output_type": "stream",
          "name": "stdout",
          "text": [
            "กรุณากรอกเวลาที่ดิ่งลง (วินาที): 20\n",
            "ความเร็วสุดท้าย: 200.00 m/s\n",
            "ระยะทางที่ตก: 2000.00 เมตร\n"
          ]
        }
      ]
    }
  ]
}